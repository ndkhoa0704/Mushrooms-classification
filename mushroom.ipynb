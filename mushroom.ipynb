{
 "cells": [
  {
   "cell_type": "code",
   "execution_count": null,
   "source": [
    "import numpy as np\r\n",
    "import seaborn as sns\r\n",
    "import graphviz\r\n",
    "import pandas as pd\r\n",
    "import matplotlib.pyplot as plt\r\n",
    "from sklearn.model_selection import train_test_split\r\n",
    "from sklearn.tree import DecisionTreeClassifier, export_graphviz\r\n",
    "from sklearn.preprocessing import LabelEncoder\r\n",
    "from sklearn.metrics import classification_report, confusion_matrix, accuracy_score"
   ],
   "outputs": [],
   "metadata": {}
  },
  {
   "cell_type": "markdown",
   "source": [
    "# Get data"
   ],
   "metadata": {}
  },
  {
   "cell_type": "code",
   "execution_count": null,
   "source": [
    "df = pd.read_csv(\"mushrooms.csv\")"
   ],
   "outputs": [],
   "metadata": {}
  },
  {
   "cell_type": "markdown",
   "source": [
    "# Preprocess"
   ],
   "metadata": {}
  },
  {
   "cell_type": "code",
   "execution_count": null,
   "source": [
    "labelencoder = LabelEncoder()\r\n",
    "for column in df.columns:\r\n",
    "    df[column] = labelencoder.fit_transform(df[column])"
   ],
   "outputs": [],
   "metadata": {}
  },
  {
   "cell_type": "code",
   "execution_count": null,
   "source": [
    "x = df.drop(['class'], axis=1)\r\n",
    "y = df['class']"
   ],
   "outputs": [],
   "metadata": {}
  },
  {
   "cell_type": "code",
   "execution_count": null,
   "source": [
    "df = df.drop([\"veil-type\"], axis=1)"
   ],
   "outputs": [],
   "metadata": {}
  },
  {
   "cell_type": "markdown",
   "source": [
    "# Task 1: Preparing the data sets"
   ],
   "metadata": {}
  },
  {
   "cell_type": "markdown",
   "source": [
    "<span style=\"font-size:1.25em\">**Each set contains 4 subsets:** <br>\r\n",
    "    - Feature train <br>\r\n",
    "    - Feature test <br>\r\n",
    "    - Label train <br>\r\n",
    "    - Label test <br> </span>"
   ],
   "metadata": {}
  },
  {
   "cell_type": "code",
   "execution_count": null,
   "source": [
    "set1 = train_test_split(x, y, train_size=0.4)\r\n",
    "set2 = train_test_split(x, y, train_size=0.6)\r\n",
    "set3 = train_test_split(x, y, train_size=0.8)\r\n",
    "set4 = train_test_split(x, y, train_size=0.9)"
   ],
   "outputs": [],
   "metadata": {}
  },
  {
   "cell_type": "markdown",
   "source": [
    "# Functions"
   ],
   "metadata": {}
  },
  {
   "cell_type": "markdown",
   "source": [
    "<span style=\"font-size:1.25em\">**Fit data and generate model**</span>"
   ],
   "metadata": {}
  },
  {
   "cell_type": "code",
   "execution_count": null,
   "source": [
    "def get_model(X, y, d):\r\n",
    "    clf = DecisionTreeClassifier(criterion=\"entropy\",max_depth=d)\r\n",
    "    clf = clf.fit(X, y)\r\n",
    "    return clf"
   ],
   "outputs": [],
   "metadata": {}
  },
  {
   "cell_type": "markdown",
   "source": [
    "<span style=\"font-size:1.25em\">**From model, create a graph**</span>"
   ],
   "metadata": {}
  },
  {
   "cell_type": "code",
   "execution_count": null,
   "source": [
    "def make_graph(clf):\r\n",
    "    dot_data = export_graphviz(clf, out_file=None,\r\n",
    "                               feature_names=x.columns,\r\n",
    "                               filled=True, rounded=True,\r\n",
    "                               special_characters=True)\r\n",
    "    graph = graphviz.Source(dot_data)\r\n",
    "    return graph"
   ],
   "outputs": [],
   "metadata": {}
  },
  {
   "cell_type": "markdown",
   "source": [
    "<span style=\"font-size:1.25em\">**Visualize confusion matrix**</span>"
   ],
   "metadata": {}
  },
  {
   "cell_type": "code",
   "execution_count": null,
   "source": [
    "def viz_cfm(cfm):\r\n",
    "    sns.heatmap(cfm, annot=True,  linewidths=.5, cbar=None)\r\n",
    "    plt.title('Decision Tree Classifier confusion matrix')\r\n",
    "    plt.ylabel('True label')\r\n",
    "    plt.xlabel('Predicted label')"
   ],
   "outputs": [],
   "metadata": {}
  },
  {
   "cell_type": "markdown",
   "source": [
    "<span style=\"font-size:1.25em\">**Perfrom tasks for each set:**<br>\r\n",
    "    - Fit data and generate model <br>\r\n",
    "    - Generate graph <br>\r\n",
    "    - Estimate label <br>\r\n",
    "    - Get classification report <br>\r\n",
    "    - Generate confusion matrix <br>\r\n",
    "    - Get accuracy score</span>\r\n",
    "\r\n",
    "\r\n"
   ],
   "metadata": {}
  },
  {
   "cell_type": "code",
   "execution_count": null,
   "source": [
    "def tasks(dataset, depth):\r\n",
    "    model = get_model(X=dataset[0], y=dataset[2],d=depth)\r\n",
    "    graph = make_graph(model)\r\n",
    "    y_est = model.predict(dataset[1])\r\n",
    "    rp = classification_report(dataset[3], y_est)\r\n",
    "    cm = confusion_matrix(dataset[3], y_est)\r\n",
    "    acc = accuracy_score(dataset[3], y_est)\r\n",
    "    return graph, rp, cm, acc"
   ],
   "outputs": [],
   "metadata": {}
  },
  {
   "cell_type": "markdown",
   "source": [
    "# Processing data"
   ],
   "metadata": {}
  },
  {
   "cell_type": "code",
   "execution_count": null,
   "source": [
    "graph1, rp1, cm1, _ = tasks(set1, None)\r\n",
    "graph2, rp2, cm2, _ = tasks(set2, None)\r\n",
    "graph3, rp3, cm3, _ = tasks(set3, None)\r\n",
    "graph4, rp4, cm4, _ = tasks(set4, None)"
   ],
   "outputs": [],
   "metadata": {}
  },
  {
   "cell_type": "markdown",
   "source": [
    "# Task 2: Building the decision tree classifiers"
   ],
   "metadata": {}
  },
  {
   "cell_type": "markdown",
   "source": [
    "<span style=\"font-size:1.5em\">**Set 1 (40/60)**</span>"
   ],
   "metadata": {}
  },
  {
   "cell_type": "code",
   "execution_count": null,
   "source": [
    "graph1"
   ],
   "outputs": [],
   "metadata": {}
  },
  {
   "cell_type": "markdown",
   "source": [
    "<span style=\"font-size:1.5em\">**Set 2 (60/40)**</span>"
   ],
   "metadata": {}
  },
  {
   "cell_type": "code",
   "execution_count": null,
   "source": [
    "graph2"
   ],
   "outputs": [],
   "metadata": {}
  },
  {
   "cell_type": "markdown",
   "source": [
    "<span style=\"font-size:1.5em\">**Set 3 (80/20)**</span>"
   ],
   "metadata": {}
  },
  {
   "cell_type": "code",
   "execution_count": null,
   "source": [
    "graph3"
   ],
   "outputs": [],
   "metadata": {}
  },
  {
   "cell_type": "markdown",
   "source": [
    "<span style=\"font-size:1.5em\">**Set 4 (90/10)**</span>"
   ],
   "metadata": {}
  },
  {
   "cell_type": "code",
   "execution_count": null,
   "source": [
    "graph4"
   ],
   "outputs": [],
   "metadata": {}
  },
  {
   "cell_type": "markdown",
   "source": [
    "# Task 3: Evaluating the decision tree classifiers"
   ],
   "metadata": {}
  },
  {
   "cell_type": "markdown",
   "source": [
    "<span style=\"font-size:1.5em\">**Set 1 (40/60)**</span>"
   ],
   "metadata": {}
  },
  {
   "cell_type": "code",
   "execution_count": null,
   "source": [
    "print(rp1)\r\n",
    "viz_cfm(cm1)"
   ],
   "outputs": [],
   "metadata": {}
  },
  {
   "cell_type": "markdown",
   "source": [
    "<span style=\"font-size:1.5em\">**Set 2 (60/40)**</span>"
   ],
   "metadata": {}
  },
  {
   "cell_type": "code",
   "execution_count": null,
   "source": [
    "print(rp2)\r\n",
    "viz_cfm(cm2)"
   ],
   "outputs": [],
   "metadata": {}
  },
  {
   "cell_type": "markdown",
   "source": [
    "<span style=\"font-size:1.5em\">**Set 3 (80/20)**</span>"
   ],
   "metadata": {}
  },
  {
   "cell_type": "code",
   "execution_count": null,
   "source": [
    "print(rp3)\r\n",
    "viz_cfm(cm3)"
   ],
   "outputs": [],
   "metadata": {}
  },
  {
   "cell_type": "markdown",
   "source": [
    "<span style=\"font-size:1.5em\">**Set 4 (90/10)**</span>"
   ],
   "metadata": {}
  },
  {
   "cell_type": "code",
   "execution_count": null,
   "source": [
    "print(rp4)\r\n",
    "viz_cfm(cm4)"
   ],
   "outputs": [],
   "metadata": {}
  },
  {
   "cell_type": "markdown",
   "source": [
    "# Task 4: The depth and accuracy of a decision tree"
   ],
   "metadata": {}
  },
  {
   "cell_type": "markdown",
   "source": [
    "<span style=\"font-size:1.75em\">**Max depth = None**</span>"
   ],
   "metadata": {}
  },
  {
   "cell_type": "code",
   "execution_count": null,
   "source": [
    "acc_scores = []"
   ],
   "outputs": [],
   "metadata": {}
  },
  {
   "cell_type": "code",
   "execution_count": null,
   "source": [
    "graph, _, _, acc = tasks(set3, None)\r\n",
    "acc_scores.append(acc)"
   ],
   "outputs": [],
   "metadata": {}
  },
  {
   "cell_type": "code",
   "execution_count": null,
   "source": [
    "graph"
   ],
   "outputs": [],
   "metadata": {}
  },
  {
   "cell_type": "markdown",
   "source": [
    "<span style=\"font-size:1.75em\">**Max depth = 2**</span>"
   ],
   "metadata": {}
  },
  {
   "cell_type": "code",
   "execution_count": null,
   "source": [
    "graph, _, _, acc = tasks(set3, 2)\r\n",
    "acc_scores.append(acc)"
   ],
   "outputs": [],
   "metadata": {}
  },
  {
   "cell_type": "code",
   "execution_count": null,
   "source": [
    "graph"
   ],
   "outputs": [],
   "metadata": {}
  },
  {
   "cell_type": "markdown",
   "source": [
    "<span style=\"font-size:1.75em\">**Max depth = 3**</span>"
   ],
   "metadata": {}
  },
  {
   "cell_type": "code",
   "execution_count": null,
   "source": [
    "graph, _, _, acc = tasks(set3, 3)\r\n",
    "acc_scores.append(acc)"
   ],
   "outputs": [],
   "metadata": {}
  },
  {
   "cell_type": "code",
   "execution_count": null,
   "source": [
    "graph"
   ],
   "outputs": [],
   "metadata": {}
  },
  {
   "cell_type": "markdown",
   "source": [
    "<span style=\"font-size:1.75em\">**Max depth = 4**</span>"
   ],
   "metadata": {}
  },
  {
   "cell_type": "code",
   "execution_count": null,
   "source": [
    "graph, _, _, acc = tasks(set3, 4)\r\n",
    "acc_scores.append(acc)"
   ],
   "outputs": [],
   "metadata": {}
  },
  {
   "cell_type": "code",
   "execution_count": null,
   "source": [
    "graph"
   ],
   "outputs": [],
   "metadata": {}
  },
  {
   "cell_type": "markdown",
   "source": [
    "<span style=\"font-size:1.75em\">**Max depth = 5**</span>"
   ],
   "metadata": {}
  },
  {
   "cell_type": "code",
   "execution_count": null,
   "source": [
    "graph, _, _, acc = tasks(set3, 5)\r\n",
    "acc_scores.append(acc)"
   ],
   "outputs": [],
   "metadata": {}
  },
  {
   "cell_type": "code",
   "execution_count": null,
   "source": [
    "graph"
   ],
   "outputs": [],
   "metadata": {}
  },
  {
   "cell_type": "markdown",
   "source": [
    "<span style=\"font-size:1.75em\">**Max depth = 6**</span>"
   ],
   "metadata": {}
  },
  {
   "cell_type": "code",
   "execution_count": null,
   "source": [
    "graph, _, _, acc = tasks(set3, 6)\r\n",
    "acc_scores.append(acc)"
   ],
   "outputs": [],
   "metadata": {}
  },
  {
   "cell_type": "code",
   "execution_count": null,
   "source": [
    "graph"
   ],
   "outputs": [],
   "metadata": {}
  },
  {
   "cell_type": "markdown",
   "source": [
    "<span style=\"font-size:1.75em\">**Max depth = 7**</span>"
   ],
   "metadata": {}
  },
  {
   "cell_type": "code",
   "execution_count": null,
   "source": [
    "graph, _, _, acc = tasks(set3, 7)\r\n",
    "acc_scores.append(acc)"
   ],
   "outputs": [],
   "metadata": {}
  },
  {
   "cell_type": "code",
   "execution_count": null,
   "source": [
    "graph"
   ],
   "outputs": [],
   "metadata": {}
  },
  {
   "cell_type": "markdown",
   "source": [
    "<span style=\"font-size:1.75em\">**Accuracy score report**</span>"
   ],
   "metadata": {}
  },
  {
   "cell_type": "code",
   "execution_count": null,
   "source": [
    "print(\"------------------------------------------------------------------\")\r\n",
    "print(\"         | None  |   2   |   3   |   4   |   5   |   6   |   7   |\")\r\n",
    "print(\"------------------------------------------------------------------\")\r\n",
    "print(\"Accuracy |\",end='')\r\n",
    "for i in acc_scores:\r\n",
    "    print(' %.3f |'% i, end='')\r\n",
    "print()\r\n",
    "print(\"------------------------------------------------------------------\")\r\n"
   ],
   "outputs": [],
   "metadata": {}
  }
 ],
 "metadata": {
  "orig_nbformat": 4,
  "language_info": {
   "name": "python",
   "version": "3.9.5",
   "mimetype": "text/x-python",
   "codemirror_mode": {
    "name": "ipython",
    "version": 3
   },
   "pygments_lexer": "ipython3",
   "nbconvert_exporter": "python",
   "file_extension": ".py"
  },
  "kernelspec": {
   "name": "python3",
   "display_name": "Python 3.9.5 64-bit"
  },
  "interpreter": {
   "hash": "70c2d598eb787fc1bb8b002837a116dbeef6c129b9232cdd39d229ab6534859a"
  }
 },
 "nbformat": 4,
 "nbformat_minor": 2
}